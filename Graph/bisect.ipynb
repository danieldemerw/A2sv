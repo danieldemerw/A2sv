import bisect
list=[1,3,4,4,6,7]

# return 5 right most possible index
print('leftmost index to insert , so list remains sorted is : ', end=" ")

print(bisect.bisect(list,4))

# returns 2 left most possible index
print(bisect.bisect_left(list,4))

print(bisect.bisect_right(list,4,0,4))

